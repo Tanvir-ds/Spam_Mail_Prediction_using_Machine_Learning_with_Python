{
 "cells": [
  {
   "cell_type": "code",
   "execution_count": 1,
   "id": "498a1ea1",
   "metadata": {},
   "outputs": [],
   "source": [
    "# Importing libraries\n",
    "import numpy as np\n",
    "import pandas as pd\n",
    "import matplotlib.pyplot as plt\n",
    "import seaborn as sns"
   ]
  },
  {
   "cell_type": "code",
   "execution_count": 2,
   "id": "cc593274",
   "metadata": {},
   "outputs": [
    {
     "data": {
      "text/html": [
       "<div>\n",
       "<style scoped>\n",
       "    .dataframe tbody tr th:only-of-type {\n",
       "        vertical-align: middle;\n",
       "    }\n",
       "\n",
       "    .dataframe tbody tr th {\n",
       "        vertical-align: top;\n",
       "    }\n",
       "\n",
       "    .dataframe thead th {\n",
       "        text-align: right;\n",
       "    }\n",
       "</style>\n",
       "<table border=\"1\" class=\"dataframe\">\n",
       "  <thead>\n",
       "    <tr style=\"text-align: right;\">\n",
       "      <th></th>\n",
       "      <th>category</th>\n",
       "      <th>message</th>\n",
       "    </tr>\n",
       "  </thead>\n",
       "  <tbody>\n",
       "    <tr>\n",
       "      <th>0</th>\n",
       "      <td>ham</td>\n",
       "      <td>\"Go until jurong point, crazy.. Available only...</td>\n",
       "    </tr>\n",
       "    <tr>\n",
       "      <th>1</th>\n",
       "      <td>ham</td>\n",
       "      <td>Ok lar... Joking wif u oni...</td>\n",
       "    </tr>\n",
       "    <tr>\n",
       "      <th>2</th>\n",
       "      <td>spam</td>\n",
       "      <td>Free entry in 2 a wkly comp to win FA Cup fina...</td>\n",
       "    </tr>\n",
       "    <tr>\n",
       "      <th>3</th>\n",
       "      <td>ham</td>\n",
       "      <td>U dun say so early hor... U c already then say...</td>\n",
       "    </tr>\n",
       "    <tr>\n",
       "      <th>4</th>\n",
       "      <td>ham</td>\n",
       "      <td>\"Nah I don't think he goes to usf, he lives ar...</td>\n",
       "    </tr>\n",
       "    <tr>\n",
       "      <th>...</th>\n",
       "      <td>...</td>\n",
       "      <td>...</td>\n",
       "    </tr>\n",
       "    <tr>\n",
       "      <th>5569</th>\n",
       "      <td>spam</td>\n",
       "      <td>\"This is the 2nd time we have tried 2 contact ...</td>\n",
       "    </tr>\n",
       "    <tr>\n",
       "      <th>5570</th>\n",
       "      <td>ham</td>\n",
       "      <td>Will ü b going to esplanade fr home?</td>\n",
       "    </tr>\n",
       "    <tr>\n",
       "      <th>5571</th>\n",
       "      <td>ham</td>\n",
       "      <td>\"Pity, * was in mood for that. So...any other ...</td>\n",
       "    </tr>\n",
       "    <tr>\n",
       "      <th>5572</th>\n",
       "      <td>ham</td>\n",
       "      <td>The guy did some bitching but I acted like i'd...</td>\n",
       "    </tr>\n",
       "    <tr>\n",
       "      <th>5573</th>\n",
       "      <td>ham</td>\n",
       "      <td>Rofl. Its true to its name</td>\n",
       "    </tr>\n",
       "  </tbody>\n",
       "</table>\n",
       "<p>5574 rows × 2 columns</p>\n",
       "</div>"
      ],
      "text/plain": [
       "     category                                            message\n",
       "0         ham  \"Go until jurong point, crazy.. Available only...\n",
       "1         ham                      Ok lar... Joking wif u oni...\n",
       "2        spam  Free entry in 2 a wkly comp to win FA Cup fina...\n",
       "3         ham  U dun say so early hor... U c already then say...\n",
       "4         ham  \"Nah I don't think he goes to usf, he lives ar...\n",
       "...       ...                                                ...\n",
       "5569     spam  \"This is the 2nd time we have tried 2 contact ...\n",
       "5570      ham               Will ü b going to esplanade fr home?\n",
       "5571      ham  \"Pity, * was in mood for that. So...any other ...\n",
       "5572      ham  The guy did some bitching but I acted like i'd...\n",
       "5573      ham                         Rofl. Its true to its name\n",
       "\n",
       "[5574 rows x 2 columns]"
      ]
     },
     "execution_count": 2,
     "metadata": {},
     "output_type": "execute_result"
    }
   ],
   "source": [
    "# Loading the dataset from CSV file to Pandas DataFrame\n",
    "spam_mail_data = pd.read_csv('email spam.csv')\n",
    "spam_mail_data"
   ]
  },
  {
   "cell_type": "code",
   "execution_count": 3,
   "id": "8d5b2889",
   "metadata": {},
   "outputs": [],
   "source": [
    "# Replacing null values with empty string\n",
    "spam_mail_data.fillna('',inplace=True)"
   ]
  },
  {
   "cell_type": "code",
   "execution_count": 4,
   "id": "b4a7055e",
   "metadata": {},
   "outputs": [
    {
     "data": {
      "text/plain": [
       "415"
      ]
     },
     "execution_count": 4,
     "metadata": {},
     "output_type": "execute_result"
    }
   ],
   "source": [
    "# Finding duplicates value\n",
    "spam_mail_data.duplicated().sum()"
   ]
  },
  {
   "cell_type": "code",
   "execution_count": 5,
   "id": "6c2d01ec",
   "metadata": {},
   "outputs": [],
   "source": [
    "# Handling duplicate value\n",
    "spam_mail_data.drop_duplicates(inplace=True)"
   ]
  },
  {
   "cell_type": "code",
   "execution_count": 6,
   "id": "cdf165a0",
   "metadata": {},
   "outputs": [
    {
     "data": {
      "text/plain": [
       "0"
      ]
     },
     "execution_count": 6,
     "metadata": {},
     "output_type": "execute_result"
    }
   ],
   "source": [
    "spam_mail_data.duplicated().sum()"
   ]
  },
  {
   "cell_type": "code",
   "execution_count": 7,
   "id": "bf21aa8c",
   "metadata": {},
   "outputs": [
    {
     "data": {
      "text/plain": [
       "ham     4518\n",
       "spam     641\n",
       "Name: category, dtype: int64"
      ]
     },
     "execution_count": 7,
     "metadata": {},
     "output_type": "execute_result"
    }
   ],
   "source": [
    "spam_mail_data['category'].value_counts()"
   ]
  },
  {
   "cell_type": "code",
   "execution_count": 8,
   "id": "2549cdef",
   "metadata": {},
   "outputs": [
    {
     "data": {
      "text/plain": [
       "<AxesSubplot:xlabel='category', ylabel='count'>"
      ]
     },
     "execution_count": 8,
     "metadata": {},
     "output_type": "execute_result"
    },
    {
     "data": {
      "image/png": "[encoded data removed]",
      "text/plain": [
       "<Figure size 640x480 with 1 Axes>"
      ]
     },
     "metadata": {},
     "output_type": "display_data"
    }
   ],
   "source": [
    "# Visualizing target column entities\n",
    "sns.set()\n",
    "sns.countplot(x='category',data=spam_mail_data)"
   ]
  },
  {
   "cell_type": "markdown",
   "id": "949eb160",
   "metadata": {},
   "source": [
    "# This Data is imbalanced"
   ]
  },
  {
   "cell_type": "code",
   "execution_count": 9,
   "id": "b19740af",
   "metadata": {},
   "outputs": [],
   "source": [
    "# Separating spam and ham data\n",
    "ham = spam_mail_data[spam_mail_data['category']=='ham']\n",
    "spam = spam_mail_data[spam_mail_data['category']=='spam']"
   ]
  },
  {
   "cell_type": "code",
   "execution_count": 10,
   "id": "c24f6681",
   "metadata": {},
   "outputs": [
    {
     "data": {
      "text/html": [
       "<div>\n",
       "<style scoped>\n",
       "    .dataframe tbody tr th:only-of-type {\n",
       "        vertical-align: middle;\n",
       "    }\n",
       "\n",
       "    .dataframe tbody tr th {\n",
       "        vertical-align: top;\n",
       "    }\n",
       "\n",
       "    .dataframe thead th {\n",
       "        text-align: right;\n",
       "    }\n",
       "</style>\n",
       "<table border=\"1\" class=\"dataframe\">\n",
       "  <thead>\n",
       "    <tr style=\"text-align: right;\">\n",
       "      <th></th>\n",
       "      <th>category</th>\n",
       "      <th>message</th>\n",
       "    </tr>\n",
       "  </thead>\n",
       "  <tbody>\n",
       "    <tr>\n",
       "      <th>0</th>\n",
       "      <td>ham</td>\n",
       "      <td>\"Go until jurong point, crazy.. Available only...</td>\n",
       "    </tr>\n",
       "    <tr>\n",
       "      <th>1</th>\n",
       "      <td>ham</td>\n",
       "      <td>Ok lar... Joking wif u oni...</td>\n",
       "    </tr>\n",
       "    <tr>\n",
       "      <th>3</th>\n",
       "      <td>ham</td>\n",
       "      <td>U dun say so early hor... U c already then say...</td>\n",
       "    </tr>\n",
       "    <tr>\n",
       "      <th>4</th>\n",
       "      <td>ham</td>\n",
       "      <td>\"Nah I don't think he goes to usf, he lives ar...</td>\n",
       "    </tr>\n",
       "    <tr>\n",
       "      <th>6</th>\n",
       "      <td>ham</td>\n",
       "      <td>Even my brother is not like to speak with me. ...</td>\n",
       "    </tr>\n",
       "    <tr>\n",
       "      <th>...</th>\n",
       "      <td>...</td>\n",
       "      <td>...</td>\n",
       "    </tr>\n",
       "    <tr>\n",
       "      <th>5567</th>\n",
       "      <td>ham</td>\n",
       "      <td>Huh y lei...</td>\n",
       "    </tr>\n",
       "    <tr>\n",
       "      <th>5570</th>\n",
       "      <td>ham</td>\n",
       "      <td>Will ü b going to esplanade fr home?</td>\n",
       "    </tr>\n",
       "    <tr>\n",
       "      <th>5571</th>\n",
       "      <td>ham</td>\n",
       "      <td>\"Pity, * was in mood for that. So...any other ...</td>\n",
       "    </tr>\n",
       "    <tr>\n",
       "      <th>5572</th>\n",
       "      <td>ham</td>\n",
       "      <td>The guy did some bitching but I acted like i'd...</td>\n",
       "    </tr>\n",
       "    <tr>\n",
       "      <th>5573</th>\n",
       "      <td>ham</td>\n",
       "      <td>Rofl. Its true to its name</td>\n",
       "    </tr>\n",
       "  </tbody>\n",
       "</table>\n",
       "<p>4518 rows × 2 columns</p>\n",
       "</div>"
      ],
      "text/plain": [
       "     category                                            message\n",
       "0         ham  \"Go until jurong point, crazy.. Available only...\n",
       "1         ham                      Ok lar... Joking wif u oni...\n",
       "3         ham  U dun say so early hor... U c already then say...\n",
       "4         ham  \"Nah I don't think he goes to usf, he lives ar...\n",
       "6         ham  Even my brother is not like to speak with me. ...\n",
       "...       ...                                                ...\n",
       "5567      ham                                       Huh y lei...\n",
       "5570      ham               Will ü b going to esplanade fr home?\n",
       "5571      ham  \"Pity, * was in mood for that. So...any other ...\n",
       "5572      ham  The guy did some bitching but I acted like i'd...\n",
       "5573      ham                         Rofl. Its true to its name\n",
       "\n",
       "[4518 rows x 2 columns]"
      ]
     },
     "execution_count": 10,
     "metadata": {},
     "output_type": "execute_result"
    }
   ],
   "source": [
    "ham"
   ]
  },
  {
   "cell_type": "code",
   "execution_count": 11,
   "id": "bad9c855",
   "metadata": {},
   "outputs": [
    {
     "data": {
      "text/html": [
       "<div>\n",
       "<style scoped>\n",
       "    .dataframe tbody tr th:only-of-type {\n",
       "        vertical-align: middle;\n",
       "    }\n",
       "\n",
       "    .dataframe tbody tr th {\n",
       "        vertical-align: top;\n",
       "    }\n",
       "\n",
       "    .dataframe thead th {\n",
       "        text-align: right;\n",
       "    }\n",
       "</style>\n",
       "<table border=\"1\" class=\"dataframe\">\n",
       "  <thead>\n",
       "    <tr style=\"text-align: right;\">\n",
       "      <th></th>\n",
       "      <th>category</th>\n",
       "      <th>message</th>\n",
       "    </tr>\n",
       "  </thead>\n",
       "  <tbody>\n",
       "    <tr>\n",
       "      <th>2</th>\n",
       "      <td>spam</td>\n",
       "      <td>Free entry in 2 a wkly comp to win FA Cup fina...</td>\n",
       "    </tr>\n",
       "    <tr>\n",
       "      <th>5</th>\n",
       "      <td>spam</td>\n",
       "      <td>\"FreeMsg Hey there darling it's been 3 week's ...</td>\n",
       "    </tr>\n",
       "    <tr>\n",
       "      <th>8</th>\n",
       "      <td>spam</td>\n",
       "      <td>WINNER!! As a valued network customer you have...</td>\n",
       "    </tr>\n",
       "    <tr>\n",
       "      <th>9</th>\n",
       "      <td>spam</td>\n",
       "      <td>Had your mobile 11 months or more? U R entitle...</td>\n",
       "    </tr>\n",
       "    <tr>\n",
       "      <th>11</th>\n",
       "      <td>spam</td>\n",
       "      <td>\"SIX chances to win CASH! From 100 to 20,000 p...</td>\n",
       "    </tr>\n",
       "    <tr>\n",
       "      <th>...</th>\n",
       "      <td>...</td>\n",
       "      <td>...</td>\n",
       "    </tr>\n",
       "    <tr>\n",
       "      <th>5539</th>\n",
       "      <td>spam</td>\n",
       "      <td>Want explicit SEX in 30 secs? Ring 02073162414...</td>\n",
       "    </tr>\n",
       "    <tr>\n",
       "      <th>5542</th>\n",
       "      <td>spam</td>\n",
       "      <td>ASKED 3MOBILE IF 0870 CHATLINES INCLU IN FREE ...</td>\n",
       "    </tr>\n",
       "    <tr>\n",
       "      <th>5549</th>\n",
       "      <td>spam</td>\n",
       "      <td>\"Had your contract mobile 11 Mnths? Latest Mot...</td>\n",
       "    </tr>\n",
       "    <tr>\n",
       "      <th>5568</th>\n",
       "      <td>spam</td>\n",
       "      <td>\"REMINDER FROM O2: To get 2.50 pounds free cal...</td>\n",
       "    </tr>\n",
       "    <tr>\n",
       "      <th>5569</th>\n",
       "      <td>spam</td>\n",
       "      <td>\"This is the 2nd time we have tried 2 contact ...</td>\n",
       "    </tr>\n",
       "  </tbody>\n",
       "</table>\n",
       "<p>641 rows × 2 columns</p>\n",
       "</div>"
      ],
      "text/plain": [
       "     category                                            message\n",
       "2        spam  Free entry in 2 a wkly comp to win FA Cup fina...\n",
       "5        spam  \"FreeMsg Hey there darling it's been 3 week's ...\n",
       "8        spam  WINNER!! As a valued network customer you have...\n",
       "9        spam  Had your mobile 11 months or more? U R entitle...\n",
       "11       spam  \"SIX chances to win CASH! From 100 to 20,000 p...\n",
       "...       ...                                                ...\n",
       "5539     spam  Want explicit SEX in 30 secs? Ring 02073162414...\n",
       "5542     spam  ASKED 3MOBILE IF 0870 CHATLINES INCLU IN FREE ...\n",
       "5549     spam  \"Had your contract mobile 11 Mnths? Latest Mot...\n",
       "5568     spam  \"REMINDER FROM O2: To get 2.50 pounds free cal...\n",
       "5569     spam  \"This is the 2nd time we have tried 2 contact ...\n",
       "\n",
       "[641 rows x 2 columns]"
      ]
     },
     "execution_count": 11,
     "metadata": {},
     "output_type": "execute_result"
    }
   ],
   "source": [
    "spam"
   ]
  },
  {
   "cell_type": "markdown",
   "id": "ae337261",
   "metadata": {},
   "source": [
    "# Under-Sampling"
   ]
  },
  {
   "cell_type": "code",
   "execution_count": 12,
   "id": "59456144",
   "metadata": {},
   "outputs": [
    {
     "data": {
      "text/html": [
       "<div>\n",
       "<style scoped>\n",
       "    .dataframe tbody tr th:only-of-type {\n",
       "        vertical-align: middle;\n",
       "    }\n",
       "\n",
       "    .dataframe tbody tr th {\n",
       "        vertical-align: top;\n",
       "    }\n",
       "\n",
       "    .dataframe thead th {\n",
       "        text-align: right;\n",
       "    }\n",
       "</style>\n",
       "<table border=\"1\" class=\"dataframe\">\n",
       "  <thead>\n",
       "    <tr style=\"text-align: right;\">\n",
       "      <th></th>\n",
       "      <th>category</th>\n",
       "      <th>message</th>\n",
       "    </tr>\n",
       "  </thead>\n",
       "  <tbody>\n",
       "    <tr>\n",
       "      <th>3020</th>\n",
       "      <td>ham</td>\n",
       "      <td>Wat time do u wan 2 meet me later?</td>\n",
       "    </tr>\n",
       "    <tr>\n",
       "      <th>1960</th>\n",
       "      <td>ham</td>\n",
       "      <td>Howz that persons story</td>\n",
       "    </tr>\n",
       "    <tr>\n",
       "      <th>3356</th>\n",
       "      <td>ham</td>\n",
       "      <td>Minimum walk is 3miles a day.</td>\n",
       "    </tr>\n",
       "    <tr>\n",
       "      <th>600</th>\n",
       "      <td>ham</td>\n",
       "      <td>I'm going out to buy mum's present ar.</td>\n",
       "    </tr>\n",
       "    <tr>\n",
       "      <th>2578</th>\n",
       "      <td>ham</td>\n",
       "      <td>Hey whats up? U sleeping all morning?</td>\n",
       "    </tr>\n",
       "    <tr>\n",
       "      <th>...</th>\n",
       "      <td>...</td>\n",
       "      <td>...</td>\n",
       "    </tr>\n",
       "    <tr>\n",
       "      <th>4466</th>\n",
       "      <td>ham</td>\n",
       "      <td>CHEERS FOR CALLIN BABE.SOZI CULDNT TALKBUT I W...</td>\n",
       "    </tr>\n",
       "    <tr>\n",
       "      <th>535</th>\n",
       "      <td>ham</td>\n",
       "      <td>\"I've not called you in a while. This is hopin...</td>\n",
       "    </tr>\n",
       "    <tr>\n",
       "      <th>1551</th>\n",
       "      <td>ham</td>\n",
       "      <td>He says hi and to get your ass back to south t...</td>\n",
       "    </tr>\n",
       "    <tr>\n",
       "      <th>4659</th>\n",
       "      <td>ham</td>\n",
       "      <td>This message is from a great Doctor in India:-...</td>\n",
       "    </tr>\n",
       "    <tr>\n",
       "      <th>4781</th>\n",
       "      <td>ham</td>\n",
       "      <td>Sen told that he is going to join his uncle fi...</td>\n",
       "    </tr>\n",
       "  </tbody>\n",
       "</table>\n",
       "<p>641 rows × 2 columns</p>\n",
       "</div>"
      ],
      "text/plain": [
       "     category                                            message\n",
       "3020      ham                 Wat time do u wan 2 meet me later?\n",
       "1960      ham                            Howz that persons story\n",
       "3356      ham                      Minimum walk is 3miles a day.\n",
       "600       ham             I'm going out to buy mum's present ar.\n",
       "2578      ham              Hey whats up? U sleeping all morning?\n",
       "...       ...                                                ...\n",
       "4466      ham  CHEERS FOR CALLIN BABE.SOZI CULDNT TALKBUT I W...\n",
       "535       ham  \"I've not called you in a while. This is hopin...\n",
       "1551      ham  He says hi and to get your ass back to south t...\n",
       "4659      ham  This message is from a great Doctor in India:-...\n",
       "4781      ham  Sen told that he is going to join his uncle fi...\n",
       "\n",
       "[641 rows x 2 columns]"
      ]
     },
     "execution_count": 12,
     "metadata": {},
     "output_type": "execute_result"
    }
   ],
   "source": [
    "sampled_ham = ham.sample(641)\n",
    "sampled_ham"
   ]
  },
  {
   "cell_type": "code",
   "execution_count": 13,
   "id": "7b26c06a",
   "metadata": {},
   "outputs": [
    {
     "data": {
      "text/html": [
       "<div>\n",
       "<style scoped>\n",
       "    .dataframe tbody tr th:only-of-type {\n",
       "        vertical-align: middle;\n",
       "    }\n",
       "\n",
       "    .dataframe tbody tr th {\n",
       "        vertical-align: top;\n",
       "    }\n",
       "\n",
       "    .dataframe thead th {\n",
       "        text-align: right;\n",
       "    }\n",
       "</style>\n",
       "<table border=\"1\" class=\"dataframe\">\n",
       "  <thead>\n",
       "    <tr style=\"text-align: right;\">\n",
       "      <th></th>\n",
       "      <th>category</th>\n",
       "      <th>message</th>\n",
       "    </tr>\n",
       "  </thead>\n",
       "  <tbody>\n",
       "    <tr>\n",
       "      <th>3020</th>\n",
       "      <td>ham</td>\n",
       "      <td>Wat time do u wan 2 meet me later?</td>\n",
       "    </tr>\n",
       "    <tr>\n",
       "      <th>1960</th>\n",
       "      <td>ham</td>\n",
       "      <td>Howz that persons story</td>\n",
       "    </tr>\n",
       "    <tr>\n",
       "      <th>3356</th>\n",
       "      <td>ham</td>\n",
       "      <td>Minimum walk is 3miles a day.</td>\n",
       "    </tr>\n",
       "    <tr>\n",
       "      <th>600</th>\n",
       "      <td>ham</td>\n",
       "      <td>I'm going out to buy mum's present ar.</td>\n",
       "    </tr>\n",
       "    <tr>\n",
       "      <th>2578</th>\n",
       "      <td>ham</td>\n",
       "      <td>Hey whats up? U sleeping all morning?</td>\n",
       "    </tr>\n",
       "    <tr>\n",
       "      <th>...</th>\n",
       "      <td>...</td>\n",
       "      <td>...</td>\n",
       "    </tr>\n",
       "    <tr>\n",
       "      <th>5539</th>\n",
       "      <td>spam</td>\n",
       "      <td>Want explicit SEX in 30 secs? Ring 02073162414...</td>\n",
       "    </tr>\n",
       "    <tr>\n",
       "      <th>5542</th>\n",
       "      <td>spam</td>\n",
       "      <td>ASKED 3MOBILE IF 0870 CHATLINES INCLU IN FREE ...</td>\n",
       "    </tr>\n",
       "    <tr>\n",
       "      <th>5549</th>\n",
       "      <td>spam</td>\n",
       "      <td>\"Had your contract mobile 11 Mnths? Latest Mot...</td>\n",
       "    </tr>\n",
       "    <tr>\n",
       "      <th>5568</th>\n",
       "      <td>spam</td>\n",
       "      <td>\"REMINDER FROM O2: To get 2.50 pounds free cal...</td>\n",
       "    </tr>\n",
       "    <tr>\n",
       "      <th>5569</th>\n",
       "      <td>spam</td>\n",
       "      <td>\"This is the 2nd time we have tried 2 contact ...</td>\n",
       "    </tr>\n",
       "  </tbody>\n",
       "</table>\n",
       "<p>1282 rows × 2 columns</p>\n",
       "</div>"
      ],
      "text/plain": [
       "     category                                            message\n",
       "3020      ham                 Wat time do u wan 2 meet me later?\n",
       "1960      ham                            Howz that persons story\n",
       "3356      ham                      Minimum walk is 3miles a day.\n",
       "600       ham             I'm going out to buy mum's present ar.\n",
       "2578      ham              Hey whats up? U sleeping all morning?\n",
       "...       ...                                                ...\n",
       "5539     spam  Want explicit SEX in 30 secs? Ring 02073162414...\n",
       "5542     spam  ASKED 3MOBILE IF 0870 CHATLINES INCLU IN FREE ...\n",
       "5549     spam  \"Had your contract mobile 11 Mnths? Latest Mot...\n",
       "5568     spam  \"REMINDER FROM O2: To get 2.50 pounds free cal...\n",
       "5569     spam  \"This is the 2nd time we have tried 2 contact ...\n",
       "\n",
       "[1282 rows x 2 columns]"
      ]
     },
     "execution_count": 13,
     "metadata": {},
     "output_type": "execute_result"
    }
   ],
   "source": [
    "# Concatinating ham and sampled_ham column\n",
    "ham_spam_data = pd.concat([sampled_ham,spam],axis=0)\n",
    "ham_spam_data"
   ]
  },
  {
   "cell_type": "code",
   "execution_count": 14,
   "id": "b23c2859",
   "metadata": {},
   "outputs": [
    {
     "data": {
      "text/plain": [
       "<AxesSubplot:xlabel='category', ylabel='count'>"
      ]
     },
     "execution_count": 14,
     "metadata": {},
     "output_type": "execute_result"
    },
    {
     "data": {
      "image/png": "[encoded data removed]",
      "text/plain": [
       "<Figure size 640x480 with 1 Axes>"
      ]
     },
     "metadata": {},
     "output_type": "display_data"
    }
   ],
   "source": [
    "sns.set()\n",
    "sns.countplot(x='category',data=ham_spam_data)"
   ]
  },
  {
   "cell_type": "markdown",
   "id": "3d91be78",
   "metadata": {},
   "source": [
    "# Label Encoding for 'category' column\n"
   ]
  },
  {
   "cell_type": "code",
   "execution_count": 15,
   "id": "765bed05",
   "metadata": {},
   "outputs": [
    {
     "data": {
      "text/html": [
       "<div>\n",
       "<style scoped>\n",
       "    .dataframe tbody tr th:only-of-type {\n",
       "        vertical-align: middle;\n",
       "    }\n",
       "\n",
       "    .dataframe tbody tr th {\n",
       "        vertical-align: top;\n",
       "    }\n",
       "\n",
       "    .dataframe thead th {\n",
       "        text-align: right;\n",
       "    }\n",
       "</style>\n",
       "<table border=\"1\" class=\"dataframe\">\n",
       "  <thead>\n",
       "    <tr style=\"text-align: right;\">\n",
       "      <th></th>\n",
       "      <th>category</th>\n",
       "      <th>message</th>\n",
       "    </tr>\n",
       "  </thead>\n",
       "  <tbody>\n",
       "    <tr>\n",
       "      <th>3020</th>\n",
       "      <td>0</td>\n",
       "      <td>Wat time do u wan 2 meet me later?</td>\n",
       "    </tr>\n",
       "    <tr>\n",
       "      <th>1960</th>\n",
       "      <td>0</td>\n",
       "      <td>Howz that persons story</td>\n",
       "    </tr>\n",
       "    <tr>\n",
       "      <th>3356</th>\n",
       "      <td>0</td>\n",
       "      <td>Minimum walk is 3miles a day.</td>\n",
       "    </tr>\n",
       "    <tr>\n",
       "      <th>600</th>\n",
       "      <td>0</td>\n",
       "      <td>I'm going out to buy mum's present ar.</td>\n",
       "    </tr>\n",
       "    <tr>\n",
       "      <th>2578</th>\n",
       "      <td>0</td>\n",
       "      <td>Hey whats up? U sleeping all morning?</td>\n",
       "    </tr>\n",
       "    <tr>\n",
       "      <th>...</th>\n",
       "      <td>...</td>\n",
       "      <td>...</td>\n",
       "    </tr>\n",
       "    <tr>\n",
       "      <th>5539</th>\n",
       "      <td>1</td>\n",
       "      <td>Want explicit SEX in 30 secs? Ring 02073162414...</td>\n",
       "    </tr>\n",
       "    <tr>\n",
       "      <th>5542</th>\n",
       "      <td>1</td>\n",
       "      <td>ASKED 3MOBILE IF 0870 CHATLINES INCLU IN FREE ...</td>\n",
       "    </tr>\n",
       "    <tr>\n",
       "      <th>5549</th>\n",
       "      <td>1</td>\n",
       "      <td>\"Had your contract mobile 11 Mnths? Latest Mot...</td>\n",
       "    </tr>\n",
       "    <tr>\n",
       "      <th>5568</th>\n",
       "      <td>1</td>\n",
       "      <td>\"REMINDER FROM O2: To get 2.50 pounds free cal...</td>\n",
       "    </tr>\n",
       "    <tr>\n",
       "      <th>5569</th>\n",
       "      <td>1</td>\n",
       "      <td>\"This is the 2nd time we have tried 2 contact ...</td>\n",
       "    </tr>\n",
       "  </tbody>\n",
       "</table>\n",
       "<p>1282 rows × 2 columns</p>\n",
       "</div>"
      ],
      "text/plain": [
       "      category                                            message\n",
       "3020         0                 Wat time do u wan 2 meet me later?\n",
       "1960         0                            Howz that persons story\n",
       "3356         0                      Minimum walk is 3miles a day.\n",
       "600          0             I'm going out to buy mum's present ar.\n",
       "2578         0              Hey whats up? U sleeping all morning?\n",
       "...        ...                                                ...\n",
       "5539         1  Want explicit SEX in 30 secs? Ring 02073162414...\n",
       "5542         1  ASKED 3MOBILE IF 0870 CHATLINES INCLU IN FREE ...\n",
       "5549         1  \"Had your contract mobile 11 Mnths? Latest Mot...\n",
       "5568         1  \"REMINDER FROM O2: To get 2.50 pounds free cal...\n",
       "5569         1  \"This is the 2nd time we have tried 2 contact ...\n",
       "\n",
       "[1282 rows x 2 columns]"
      ]
     },
     "execution_count": 15,
     "metadata": {},
     "output_type": "execute_result"
    }
   ],
   "source": [
    "# Replacing ham as 0 and spam as 1\n",
    "ham_spam_data.replace({\"category\":{\"ham\":0,\"spam\":1}},inplace=True)\n",
    "ham_spam_data"
   ]
  },
  {
   "cell_type": "code",
   "execution_count": 16,
   "id": "bc84ffa7",
   "metadata": {},
   "outputs": [],
   "source": [
    "# Extracting Independent and Depentdent variable\n",
    "x = ham_spam_data['message']\n",
    "y = ham_spam_data['category']"
   ]
  },
  {
   "cell_type": "code",
   "execution_count": 17,
   "id": "f58d4551",
   "metadata": {},
   "outputs": [
    {
     "data": {
      "text/plain": [
       "3020                   Wat time do u wan 2 meet me later?\n",
       "1960                              Howz that persons story\n",
       "3356                        Minimum walk is 3miles a day.\n",
       "600                I'm going out to buy mum's present ar.\n",
       "2578                Hey whats up? U sleeping all morning?\n",
       "                              ...                        \n",
       "5539    Want explicit SEX in 30 secs? Ring 02073162414...\n",
       "5542    ASKED 3MOBILE IF 0870 CHATLINES INCLU IN FREE ...\n",
       "5549    \"Had your contract mobile 11 Mnths? Latest Mot...\n",
       "5568    \"REMINDER FROM O2: To get 2.50 pounds free cal...\n",
       "5569    \"This is the 2nd time we have tried 2 contact ...\n",
       "Name: message, Length: 1282, dtype: object"
      ]
     },
     "execution_count": 17,
     "metadata": {},
     "output_type": "execute_result"
    }
   ],
   "source": [
    "x"
   ]
  },
  {
   "cell_type": "code",
   "execution_count": 18,
   "id": "0a7ae898",
   "metadata": {},
   "outputs": [
    {
     "data": {
      "text/plain": [
       "3020    0\n",
       "1960    0\n",
       "3356    0\n",
       "600     0\n",
       "2578    0\n",
       "       ..\n",
       "5539    1\n",
       "5542    1\n",
       "5549    1\n",
       "5568    1\n",
       "5569    1\n",
       "Name: category, Length: 1282, dtype: int64"
      ]
     },
     "execution_count": 18,
     "metadata": {},
     "output_type": "execute_result"
    }
   ],
   "source": [
    "y"
   ]
  },
  {
   "cell_type": "code",
   "execution_count": 19,
   "id": "4c53bb48",
   "metadata": {},
   "outputs": [],
   "source": [
    "# Splitting the dataset into training and test set\n",
    "from sklearn.model_selection import train_test_split\n",
    "x_train,x_test,y_train,y_test = train_test_split(x,y,test_size=0.2,random_state=2)"
   ]
  },
  {
   "cell_type": "code",
   "execution_count": 20,
   "id": "d483e330",
   "metadata": {},
   "outputs": [
    {
     "name": "stdout",
     "output_type": "stream",
     "text": [
      "(1282, 2) (1025,) (257,)\n"
     ]
    }
   ],
   "source": [
    "print(ham_spam_data.shape,x_train.shape,x_test.shape)"
   ]
  },
  {
   "cell_type": "markdown",
   "id": "9f78baf7",
   "metadata": {},
   "source": [
    "# Feature Extraction"
   ]
  },
  {
   "cell_type": "code",
   "execution_count": 21,
   "id": "ec8fc8e9",
   "metadata": {},
   "outputs": [],
   "source": [
    "# Transforming text data to feature vector so that it can be used to Logistic Regession model\n",
    "from sklearn.feature_extraction.text import TfidfVectorizer\n",
    "vectorizer = TfidfVectorizer()\n",
    "x_train_vectorizer = vectorizer.fit_transform(x_train).toarray()\n",
    "x_test_vectorizer = vectorizer.transform(x_test).toarray()"
   ]
  },
  {
   "cell_type": "code",
   "execution_count": 22,
   "id": "a0c03a99",
   "metadata": {},
   "outputs": [
    {
     "data": {
      "text/plain": [
       "1407    \"URGENT, IMPORTANT INFORMATION FOR O2 USER. TO...\n",
       "2938    Lol yep did that yesterday. Already got my fir...\n",
       "1461    \"Yalru lyfu astne chikku.. Bt innu mundhe lyf ...\n",
       "955             Filthy stories and GIRLS waiting for your\n",
       "5458    For the most sparkling shopping breaks from 45...\n",
       "                              ...                        \n",
       "2590    Join the UK's horniest Dogging service and u c...\n",
       "1458    CLAIRE here am havin borin time & am now alone...\n",
       "1930    Free 1st week entry 2 TEXTPOD 4 a chance 2 win...\n",
       "1880    U have a secret admirer who is looking 2 make ...\n",
       "3792    \"Twinks, bears, scallies, skins and jocks are ...\n",
       "Name: message, Length: 257, dtype: object"
      ]
     },
     "execution_count": 22,
     "metadata": {},
     "output_type": "execute_result"
    }
   ],
   "source": [
    "x_test"
   ]
  },
  {
   "cell_type": "code",
   "execution_count": 23,
   "id": "a21a7cfa",
   "metadata": {},
   "outputs": [
    {
     "data": {
      "text/plain": [
       "array([[0., 0., 0., ..., 0., 0., 0.],\n",
       "       [0., 0., 0., ..., 0., 0., 0.],\n",
       "       [0., 0., 0., ..., 0., 0., 0.],\n",
       "       ...,\n",
       "       [0., 0., 0., ..., 0., 0., 0.],\n",
       "       [0., 0., 0., ..., 0., 0., 0.],\n",
       "       [0., 0., 0., ..., 0., 0., 0.]])"
      ]
     },
     "execution_count": 23,
     "metadata": {},
     "output_type": "execute_result"
    }
   ],
   "source": [
    "x_test_vectorizer"
   ]
  },
  {
   "cell_type": "markdown",
   "id": "c57ca695",
   "metadata": {},
   "source": [
    "# Training the Logistic Regression model to train data"
   ]
  },
  {
   "cell_type": "code",
   "execution_count": 24,
   "id": "8c68f2aa",
   "metadata": {},
   "outputs": [
    {
     "data": {
      "text/plain": [
       "LogisticRegression()"
      ]
     },
     "execution_count": 24,
     "metadata": {},
     "output_type": "execute_result"
    }
   ],
   "source": [
    "from sklearn.linear_model import LogisticRegression\n",
    "model = LogisticRegression()\n",
    "model.fit(x_train_vectorizer,y_train)"
   ]
  },
  {
   "cell_type": "markdown",
   "id": "96bc7874",
   "metadata": {},
   "source": [
    "# Model Evaluation"
   ]
  },
  {
   "cell_type": "code",
   "execution_count": 25,
   "id": "788f8d83",
   "metadata": {},
   "outputs": [
    {
     "data": {
      "text/plain": [
       "array([0, 0, 1, ..., 0, 0, 1], dtype=int64)"
      ]
     },
     "execution_count": 25,
     "metadata": {},
     "output_type": "execute_result"
    }
   ],
   "source": [
    "# Predicting training dataset\n",
    "predicted_train_data = model.predict(x_train_vectorizer)\n",
    "predicted_train_data"
   ]
  },
  {
   "cell_type": "code",
   "execution_count": 26,
   "id": "dff12a0a",
   "metadata": {},
   "outputs": [
    {
     "name": "stdout",
     "output_type": "stream",
     "text": [
      "Training Data Accuracy: 0.9775609756097561\n"
     ]
    }
   ],
   "source": [
    "# Checking the accuray of training data \n",
    "from sklearn.metrics import accuracy_score\n",
    "score = accuracy_score(predicted_train_data,y_train)\n",
    "print(\"Training Data Accuracy:\",score)"
   ]
  },
  {
   "cell_type": "code",
   "execution_count": 27,
   "id": "7f27bdb2",
   "metadata": {},
   "outputs": [
    {
     "data": {
      "text/plain": [
       "array([1, 0, 0, 1, 1, 1, 1, 0, 1, 1, 0, 1, 0, 1, 1, 1, 1, 1, 0, 0, 1, 0,\n",
       "       1, 0, 0, 1, 0, 1, 1, 1, 0, 1, 0, 1, 1, 1, 1, 0, 0, 1, 1, 1, 1, 0,\n",
       "       1, 1, 0, 1, 1, 1, 1, 1, 0, 1, 0, 1, 0, 1, 1, 1, 0, 0, 0, 1, 1, 1,\n",
       "       1, 0, 1, 1, 1, 0, 1, 0, 0, 0, 0, 0, 1, 1, 0, 1, 1, 1, 1, 0, 0, 1,\n",
       "       1, 1, 1, 1, 0, 0, 1, 1, 0, 1, 0, 1, 1, 1, 1, 0, 0, 0, 1, 1, 0, 1,\n",
       "       0, 1, 0, 1, 1, 0, 0, 0, 1, 0, 1, 1, 1, 0, 0, 0, 1, 0, 1, 0, 0, 1,\n",
       "       1, 0, 1, 0, 0, 0, 0, 0, 0, 1, 1, 0, 1, 0, 0, 1, 0, 0, 0, 0, 0, 0,\n",
       "       0, 0, 0, 0, 0, 0, 1, 1, 1, 0, 0, 0, 0, 1, 1, 0, 0, 1, 0, 1, 1, 0,\n",
       "       0, 1, 0, 0, 1, 0, 0, 1, 0, 1, 0, 0, 0, 0, 0, 1, 1, 0, 0, 0, 1, 0,\n",
       "       0, 0, 1, 0, 0, 0, 1, 1, 1, 0, 0, 1, 0, 1, 0, 0, 1, 1, 1, 1, 1, 0,\n",
       "       1, 1, 0, 0, 0, 1, 1, 1, 1, 1, 0, 0, 1, 0, 0, 0, 0, 1, 0, 0, 1, 1,\n",
       "       1, 0, 1, 0, 0, 0, 0, 0, 1, 1, 1, 0, 1, 1, 1], dtype=int64)"
      ]
     },
     "execution_count": 27,
     "metadata": {},
     "output_type": "execute_result"
    }
   ],
   "source": [
    "# Predicting test dataset\n",
    "predicted_test_data = model.predict(x_test_vectorizer)\n",
    "predicted_test_data"
   ]
  },
  {
   "cell_type": "code",
   "execution_count": 28,
   "id": "a7c1c1b2",
   "metadata": {},
   "outputs": [
    {
     "name": "stdout",
     "output_type": "stream",
     "text": [
      "Test Data Accuracy: 0.9494163424124513\n"
     ]
    }
   ],
   "source": [
    "# Checking the accuray of test data \n",
    "from sklearn.metrics import accuracy_score\n",
    "score = accuracy_score(predicted_test_data,y_test)\n",
    "print(\"Test Data Accuracy:\",score)"
   ]
  },
  {
   "cell_type": "markdown",
   "id": "07d7a76f",
   "metadata": {},
   "source": [
    "# Creating confusion matrix and visualizing"
   ]
  },
  {
   "cell_type": "code",
   "execution_count": 29,
   "id": "33bd736f",
   "metadata": {},
   "outputs": [
    {
     "data": {
      "text/plain": [
       "<AxesSubplot:>"
      ]
     },
     "execution_count": 29,
     "metadata": {},
     "output_type": "execute_result"
    },
    {
     "data": {
      "image/png": "[encoded data removed]",
      "text/plain": [
       "<Figure size 640x480 with 2 Axes>"
      ]
     },
     "metadata": {},
     "output_type": "display_data"
    }
   ],
   "source": [
    "from sklearn.metrics import confusion_matrix\n",
    "cm = confusion_matrix(predicted_test_data,y_test)\n",
    "\n",
    "sns.set()\n",
    "sns.heatmap(cm,annot=True,fmt='.1f')"
   ]
  },
  {
   "cell_type": "markdown",
   "id": "15aa0f5f",
   "metadata": {},
   "source": [
    "# Creating a Predictive System"
   ]
  },
  {
   "cell_type": "code",
   "execution_count": 31,
   "id": "249b2f37",
   "metadata": {},
   "outputs": [
    {
     "name": "stdout",
     "output_type": "stream",
     "text": [
      "The Email is Spam.\n"
     ]
    }
   ],
   "source": [
    "# Getting input\n",
    "input_data = ['Free entry in 2 a wkly camp to win FA Cup final tkls 21July 2023.Text FA to 87121 to receive entry question.']\n",
    "\n",
    "# Vectorizing the input_data\n",
    "vectorized_input_data = vectorizer.transform(input_data).toarray()\n",
    "\n",
    "prediction = model.predict(vectorized_input_data)\n",
    "\n",
    "if prediction[0] == 0:\n",
    "    print(\"The Email is Ham.\")\n",
    "else:\n",
    "    print(\"The Email is Spam.\")"
   ]
  },
  {
   "cell_type": "code",
   "execution_count": null,
   "id": "8753a182",
   "metadata": {},
   "outputs": [],
   "source": []
  }
 ],
 "metadata": {
  "kernelspec": {
   "display_name": "Python 3 (ipykernel)",
   "language": "python",
   "name": "python3"
  },
  "language_info": {
   "codemirror_mode": {
    "name": "ipython",
    "version": 3
   },
   "file_extension": ".py",
   "mimetype": "text/x-python",
   "name": "python",
   "nbconvert_exporter": "python",
   "pygments_lexer": "ipython3",
   "version": "3.7.13"
  }
 },
 "nbformat": 4,
 "nbformat_minor": 5
}
